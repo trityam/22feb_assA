{
 "cells": [
  {
   "cell_type": "code",
   "execution_count": 1,
   "id": "a110bd6e-1261-4cad-b460-cc8794fa9c62",
   "metadata": {},
   "outputs": [],
   "source": [
    "import pandas as pd"
   ]
  },
  {
   "cell_type": "code",
   "execution_count": 7,
   "id": "2fd3d998-e59a-41e9-a414-217ec7f6278d",
   "metadata": {},
   "outputs": [
    {
     "name": "stdout",
     "output_type": "stream",
     "text": [
      "0     4\n",
      "1     8\n",
      "2    15\n",
      "3    16\n",
      "4    23\n",
      "5    42\n",
      "dtype: int64\n"
     ]
    }
   ],
   "source": [
    "#1:ANS\n",
    "ser=pd.Series([4, 8, 15, 16, 23,42])\n",
    "print(ser)"
   ]
  },
  {
   "cell_type": "code",
   "execution_count": 5,
   "id": "97e9bbf1-06f1-48bc-a886-3e1dbabd85ea",
   "metadata": {},
   "outputs": [
    {
     "name": "stdout",
     "output_type": "stream",
     "text": [
      "0       aman\n",
      "1         23\n",
      "2         34\n",
      "3          5\n",
      "4          6\n",
      "5          7\n",
      "6          8\n",
      "7       ajay\n",
      "8    krishna\n",
      "9         25\n",
      "dtype: object\n"
     ]
    }
   ],
   "source": [
    "#2:ANS\n",
    "l=['aman',23,34,5,6,7,8,'ajay','krishna',25]\n",
    "ser1=pd.Series(l)\n",
    "print(ser1)"
   ]
  },
  {
   "cell_type": "code",
   "execution_count": 14,
   "id": "1e0521e6-2a18-47ac-a2ee-c628c853c54c",
   "metadata": {},
   "outputs": [
    {
     "name": "stdout",
     "output_type": "stream",
     "text": [
      "    Name  Age  Gender\n",
      "0  Alice   25  female\n",
      "1    Bob   30    male\n",
      "2  Clair   27  female\n"
     ]
    }
   ],
   "source": [
    "#3)ANS\n",
    "d={'Name':['Alice','Bob','Clair'],\n",
    "   'Age':[25,30,27],\n",
    "   'Gender':['female','male','female']}\n",
    "df=pd.DataFrame(d)\n",
    "print(df)"
   ]
  },
  {
   "cell_type": "code",
   "execution_count": 16,
   "id": "debefe94-a814-4e89-b698-30ed8da10212",
   "metadata": {},
   "outputs": [
    {
     "name": "stdout",
     "output_type": "stream",
     "text": [
      "    Name  Age  Gender\n",
      "0  Alice   25  female\n",
      "1    Bob   30    male\n",
      "2  Clair   27  female\n",
      "0     4\n",
      "1     8\n",
      "2    15\n",
      "3    16\n",
      "4    23\n",
      "5    42\n",
      "dtype: int64\n"
     ]
    }
   ],
   "source": [
    "#4)ANS\n",
    "\"\"\"DATAFRAME:a pandas dataframe is a two dimenstional data structure ,like a 2 dimenstional array or a table\n",
    "with rows and columns.\"\"\"\n",
    "#ex:-\n",
    "d={'Name':['Alice','Bob','Clair'],\n",
    "   'Age':[25,30,27],\n",
    "   'Gender':['female','male','female']}\n",
    "df=pd.DataFrame(d)\n",
    "\"\"\"Series:pandas series is a one dimentional labeled array capable of holding data of any type(int,string,\n",
    "float,python object,etc.).\"\"\"\n",
    "#ex:\n",
    "ser=pd.Series([4, 8, 15, 16, 23,42])\n",
    "print(df)\n",
    "\n",
    "print(ser)\n"
   ]
  },
  {
   "cell_type": "code",
   "execution_count": 19,
   "id": "c9d296f9-54e1-40b1-80f3-4f7d1b8edeb1",
   "metadata": {},
   "outputs": [
    {
     "name": "stdout",
     "output_type": "stream",
     "text": [
      "Age    27.333333\n",
      "dtype: float64\n",
      "Name         AliceBobClair\n",
      "Age                     82\n",
      "Gender    femalemalefemale\n",
      "dtype: object\n"
     ]
    },
    {
     "name": "stderr",
     "output_type": "stream",
     "text": [
      "/tmp/ipykernel_210/2657862648.py:5: FutureWarning: The default value of numeric_only in DataFrame.mean is deprecated. In a future version, it will default to False. In addition, specifying 'numeric_only=None' is deprecated. Select only valid columns or specify the value of numeric_only to silence this warning.\n",
      "  mean_fun=df.mean()\n"
     ]
    }
   ],
   "source": [
    "#5)ANS\n",
    "#most common functions to manipulate pandas dataframe-\n",
    "'''1=pandas.read_csv()function,2=pandas.Head()function,3=pandas.tail()function,4=pandas.unique()function,\n",
    "5=pandas.drop()function,6=pandas.sum()function,7=pandas.mean()function...etc.'''\n",
    "#example:\n",
    "mean_fun=df.mean()\n",
    "sum_fun=df.sum()\n",
    "print(mean_fun)\n",
    "print(sum_fun)"
   ]
  },
  {
   "cell_type": "code",
   "execution_count": null,
   "id": "dfaacfca-f4ab-4128-96f9-4001e9e45d17",
   "metadata": {},
   "outputs": [],
   "source": [
    "#6)Ans:--Dataframe and panel are mutable in pandas "
   ]
  },
  {
   "cell_type": "code",
   "execution_count": 22,
   "id": "3288d7fa-6d0d-4440-8cad-33999ac682f4",
   "metadata": {},
   "outputs": [
    {
     "name": "stdout",
     "output_type": "stream",
     "text": [
      "     df1  df2\n",
      "0   aman   25\n",
      "1   ajay   29\n",
      "2  ashok   55\n",
      "3  rahul   30\n"
     ]
    }
   ],
   "source": [
    "#7)Ans;\n",
    "#creating multiple series\n",
    "l1=['aman','ajay','ashok','rahul']\n",
    "l2=[25,29,55,30]\n",
    "#creating pandas series\n",
    "s1=pd.Series(l1)\n",
    "s2=pd.Series(l2)\n",
    "#creating dictionay by passing pandas series\n",
    "fram={'df1':s1,\n",
    "      'df2':s2}\n",
    "#creating dataframe by passing dictionay\n",
    "df_ser=pd.DataFrame(fram)\n",
    "#printing dataframe\n",
    "print(df_ser)"
   ]
  },
  {
   "cell_type": "code",
   "execution_count": null,
   "id": "95f2113c-4505-47b3-9d0f-66195e346f2c",
   "metadata": {},
   "outputs": [],
   "source": []
  }
 ],
 "metadata": {
  "kernelspec": {
   "display_name": "Python 3 (ipykernel)",
   "language": "python",
   "name": "python3"
  },
  "language_info": {
   "codemirror_mode": {
    "name": "ipython",
    "version": 3
   },
   "file_extension": ".py",
   "mimetype": "text/x-python",
   "name": "python",
   "nbconvert_exporter": "python",
   "pygments_lexer": "ipython3",
   "version": "3.10.8"
  }
 },
 "nbformat": 4,
 "nbformat_minor": 5
}
